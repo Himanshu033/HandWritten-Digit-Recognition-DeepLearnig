{
  "nbformat": 4,
  "nbformat_minor": 0,
  "metadata": {
    "colab": {
      "name": "Handwritten_Digit_recognition.ipynb",
      "provenance": [],
      "authorship_tag": "ABX9TyP+MQr26J1glZWdyRFD2Qhg",
      "include_colab_link": true
    },
    "kernelspec": {
      "name": "python3",
      "display_name": "Python 3"
    },
    "language_info": {
      "name": "python"
    }
  },
  "cells": [
    {
      "cell_type": "markdown",
      "metadata": {
        "id": "view-in-github",
        "colab_type": "text"
      },
      "source": [
        "<a href=\"https://colab.research.google.com/github/Himanshu033/TensorFlow-Course/blob/master/Handwritten_Digit_recognition.ipynb\" target=\"_parent\"><img src=\"https://colab.research.google.com/assets/colab-badge.svg\" alt=\"Open In Colab\"/></a>"
      ]
    },
    {
      "cell_type": "code",
      "execution_count": 6,
      "metadata": {
        "id": "mXyKg4OlkHO2"
      },
      "outputs": [],
      "source": [
        "import numpy as np\n",
        "import pandas as pd\n",
        "import seaborn as sb\n",
        "import matplotlib.pyplot as plt\n",
        "import tensorflow as tf\n",
        "from tensorflow import keras\n",
        "%matplotlib inline\n"
      ]
    },
    {
      "cell_type": "code",
      "source": [
        "(X_train,Y_train),(X_test,Y_test) = keras.datasets.mnist.load_data()"
      ],
      "metadata": {
        "colab": {
          "base_uri": "https://localhost:8080/"
        },
        "id": "T1C8mfDVkfFL",
        "outputId": "fefdf2d6-67d0-4263-b897-5a403dcce944"
      },
      "execution_count": 9,
      "outputs": [
        {
          "output_type": "stream",
          "name": "stdout",
          "text": [
            "Downloading data from https://storage.googleapis.com/tensorflow/tf-keras-datasets/mnist.npz\n",
            "11493376/11490434 [==============================] - 0s 0us/step\n",
            "11501568/11490434 [==============================] - 0s 0us/step\n"
          ]
        }
      ]
    },
    {
      "cell_type": "code",
      "source": [
        "len(X_train)"
      ],
      "metadata": {
        "colab": {
          "base_uri": "https://localhost:8080/"
        },
        "id": "iekeBj5-lX_m",
        "outputId": "a11ec47e-519e-425f-afa2-28132d510d1d"
      },
      "execution_count": 10,
      "outputs": [
        {
          "output_type": "execute_result",
          "data": {
            "text/plain": [
              "60000"
            ]
          },
          "metadata": {},
          "execution_count": 10
        }
      ]
    },
    {
      "cell_type": "code",
      "source": [
        "len(X_test)"
      ],
      "metadata": {
        "colab": {
          "base_uri": "https://localhost:8080/"
        },
        "id": "mym6VWD2lfZM",
        "outputId": "e5b53358-5798-412d-de8a-fcd3945a4131"
      },
      "execution_count": 11,
      "outputs": [
        {
          "output_type": "execute_result",
          "data": {
            "text/plain": [
              "10000"
            ]
          },
          "metadata": {},
          "execution_count": 11
        }
      ]
    },
    {
      "cell_type": "code",
      "source": [
        "plt.matshow(X_train[22])"
      ],
      "metadata": {
        "colab": {
          "base_uri": "https://localhost:8080/",
          "height": 292
        },
        "id": "8oVWA07qmx2n",
        "outputId": "5d49c534-1bb6-4f40-f003-735a284ccfb6"
      },
      "execution_count": 12,
      "outputs": [
        {
          "output_type": "execute_result",
          "data": {
            "text/plain": [
              "<matplotlib.image.AxesImage at 0x7f4d504cef10>"
            ]
          },
          "metadata": {},
          "execution_count": 12
        },
        {
          "output_type": "display_data",
          "data": {
            "text/plain": [
              "<Figure size 288x288 with 1 Axes>"
            ],
            "image/png": "[encoded data removed]"
          },
          "metadata": {
            "needs_background": "light"
          }
        }
      ]
    },
    {
      "cell_type": "code",
      "source": [
        "Y_train[22]"
      ],
      "metadata": {
        "colab": {
          "base_uri": "https://localhost:8080/"
        },
        "id": "6Knwa8M3nFhn",
        "outputId": "da702db8-d87d-42de-c7c3-bb76994ea0dc"
      },
      "execution_count": 14,
      "outputs": [
        {
          "output_type": "execute_result",
          "data": {
            "text/plain": [
              "9"
            ]
          },
          "metadata": {},
          "execution_count": 14
        }
      ]
    },
    {
      "cell_type": "code",
      "source": [
        "X_train = X_train/255\n",
        "X_test = X_test/255"
      ],
      "metadata": {
        "id": "cmZnEs6Hrd4n"
      },
      "execution_count": 26,
      "outputs": []
    },
    {
      "cell_type": "code",
      "source": [
        "X_train_flatten = X_train.reshape(len(X_train),28*28)"
      ],
      "metadata": {
        "id": "EVyg8y5cnLVZ"
      },
      "execution_count": 27,
      "outputs": []
    },
    {
      "cell_type": "code",
      "source": [
        "X_train_flatten.shape"
      ],
      "metadata": {
        "colab": {
          "base_uri": "https://localhost:8080/"
        },
        "id": "tREZ0IaHnixK",
        "outputId": "b9990692-9d70-4b1a-dc8e-4be4f0e09202"
      },
      "execution_count": 28,
      "outputs": [
        {
          "output_type": "execute_result",
          "data": {
            "text/plain": [
              "(60000, 784)"
            ]
          },
          "metadata": {},
          "execution_count": 28
        }
      ]
    },
    {
      "cell_type": "code",
      "source": [
        "X_test_flatten = X_test.reshape(len(X_test),28*28)\n",
        "X_test_flatten.shape"
      ],
      "metadata": {
        "colab": {
          "base_uri": "https://localhost:8080/"
        },
        "id": "qoUNfpIInr6h",
        "outputId": "4aaa061e-8996-4a44-92fb-4d50fe1cfadd"
      },
      "execution_count": 29,
      "outputs": [
        {
          "output_type": "execute_result",
          "data": {
            "text/plain": [
              "(10000, 784)"
            ]
          },
          "metadata": {},
          "execution_count": 29
        }
      ]
    },
    {
      "cell_type": "code",
      "source": [
        "# a neural network \n",
        "model = keras.Sequential([\n",
        "                  keras.layers.Dense(10,input_shape=(784,),activation = 'sigmoid')\n",
        "])\n",
        "model.compile(optimizer = 'adam',\n",
        "              loss = 'sparse_categorical_crossentropy',\n",
        "              metrics=['accuracy']\n",
        "\n",
        "              )\n",
        "model.fit(X_train_flatten,Y_train,epochs = 7)\n",
        "#epochs is the number of times the model is going to be trained"
      ],
      "metadata": {
        "colab": {
          "base_uri": "https://localhost:8080/"
        },
        "id": "nsDNyGx3n5MG",
        "outputId": "f09d912d-ba02-412d-9adf-cb4fb7ed9a7c"
      },
      "execution_count": 30,
      "outputs": [
        {
          "output_type": "stream",
          "name": "stdout",
          "text": [
            "Epoch 1/7\n",
            "1875/1875 [==============================] - 3s 2ms/step - loss: 0.4701 - accuracy: 0.8765\n",
            "Epoch 2/7\n",
            "1875/1875 [==============================] - 3s 2ms/step - loss: 0.3037 - accuracy: 0.9150\n",
            "Epoch 3/7\n",
            "1875/1875 [==============================] - 3s 2ms/step - loss: 0.2834 - accuracy: 0.9209\n",
            "Epoch 4/7\n",
            "1875/1875 [==============================] - 3s 2ms/step - loss: 0.2731 - accuracy: 0.9232\n",
            "Epoch 5/7\n",
            "1875/1875 [==============================] - 3s 2ms/step - loss: 0.2667 - accuracy: 0.9256\n",
            "Epoch 6/7\n",
            "1875/1875 [==============================] - 3s 2ms/step - loss: 0.2617 - accuracy: 0.9276\n",
            "Epoch 7/7\n",
            "1875/1875 [==============================] - 3s 2ms/step - loss: 0.2585 - accuracy: 0.9290\n"
          ]
        },
        {
          "output_type": "execute_result",
          "data": {
            "text/plain": [
              "<keras.callbacks.History at 0x7f4d49d97dd0>"
            ]
          },
          "metadata": {},
          "execution_count": 30
        }
      ]
    },
    {
      "cell_type": "code",
      "source": [
        "model.evaluate(X_test_flatten,Y_test)"
      ],
      "metadata": {
        "colab": {
          "base_uri": "https://localhost:8080/"
        },
        "id": "u1m8a-76qHWZ",
        "outputId": "d465ff49-b0af-4010-cc7c-0978dd5ea987"
      },
      "execution_count": 31,
      "outputs": [
        {
          "output_type": "stream",
          "name": "stdout",
          "text": [
            "313/313 [==============================] - 1s 2ms/step - loss: 0.2659 - accuracy: 0.9239\n"
          ]
        },
        {
          "output_type": "execute_result",
          "data": {
            "text/plain": [
              "[0.2659330368041992, 0.9239000082015991]"
            ]
          },
          "metadata": {},
          "execution_count": 31
        }
      ]
    },
    {
      "cell_type": "code",
      "source": [
        "plt.matshow(X_test[1])"
      ],
      "metadata": {
        "colab": {
          "base_uri": "https://localhost:8080/",
          "height": 292
        },
        "id": "z93kXJM8sKpS",
        "outputId": "26362160-9ec2-44cc-8504-3040046c17f2"
      },
      "execution_count": 38,
      "outputs": [
        {
          "output_type": "execute_result",
          "data": {
            "text/plain": [
              "<matplotlib.image.AxesImage at 0x7f4d4b2e3f90>"
            ]
          },
          "metadata": {},
          "execution_count": 38
        },
        {
          "output_type": "display_data",
          "data": {
            "text/plain": [
              "<Figure size 288x288 with 1 Axes>"
            ],
            "image/png": "[encoded data removed]"
          },
          "metadata": {
            "needs_background": "light"
          }
        }
      ]
    },
    {
      "cell_type": "code",
      "source": [
        "y_predicted = model.predict(X_test_flatten)"
      ],
      "metadata": {
        "id": "9T8XrixDsQMi"
      },
      "execution_count": 34,
      "outputs": []
    },
    {
      "cell_type": "code",
      "source": [
        "y_predicted[1]"
      ],
      "metadata": {
        "colab": {
          "base_uri": "https://localhost:8080/"
        },
        "id": "z-8jfogcsn1v",
        "outputId": "21d4537f-b595-4885-8b6f-8e4eaf755980"
      },
      "execution_count": 37,
      "outputs": [
        {
          "output_type": "execute_result",
          "data": {
            "text/plain": [
              "array([4.9688488e-01, 5.1600933e-03, 9.9940538e-01, 2.5120515e-01,\n",
              "       1.3660882e-10, 8.9018142e-01, 9.2099345e-01, 5.4802957e-14,\n",
              "       1.3653585e-01, 1.4100253e-10], dtype=float32)"
            ]
          },
          "metadata": {},
          "execution_count": 37
        }
      ]
    },
    {
      "cell_type": "code",
      "source": [
        "np.argmax(y_predicted[1])"
      ],
      "metadata": {
        "colab": {
          "base_uri": "https://localhost:8080/"
        },
        "id": "nqwvCOzqsveY",
        "outputId": "aba2bc70-c7c0-401c-c2fe-30d66c013496"
      },
      "execution_count": 39,
      "outputs": [
        {
          "output_type": "execute_result",
          "data": {
            "text/plain": [
              "2"
            ]
          },
          "metadata": {},
          "execution_count": 39
        }
      ]
    },
    {
      "cell_type": "code",
      "source": [
        "y_predicted_labels = [np.argmax(i) for i in y_predicted]"
      ],
      "metadata": {
        "id": "jBDU-Dkjs50q"
      },
      "execution_count": 41,
      "outputs": []
    },
    {
      "cell_type": "code",
      "source": [
        "# Confusion Matirx \n",
        "cm = tf.math.confusion_matrix(labels = Y_test,predictions = y_predicted_labels)\n",
        "cm"
      ],
      "metadata": {
        "colab": {
          "base_uri": "https://localhost:8080/"
        },
        "id": "wzCEollFtR1a",
        "outputId": "a95db4da-9c53-456d-f450-a0369177985f"
      },
      "execution_count": 44,
      "outputs": [
        {
          "output_type": "execute_result",
          "data": {
            "text/plain": [
              "<tf.Tensor: shape=(10, 10), dtype=int32, numpy=\n",
              "array([[ 962,    0,    1,    2,    0,    5,    6,    2,    1,    1],\n",
              "       [   0, 1112,    3,    2,    0,    1,    4,    2,   11,    0],\n",
              "       [   8,   12,  903,   24,   10,    4,   13,   13,   41,    4],\n",
              "       [   4,    0,   14,  930,    1,   20,    3,    9,   19,   10],\n",
              "       [   1,    1,    5,    2,  919,    0,    8,    4,    9,   33],\n",
              "       [  11,    3,    1,   35,   10,  775,   15,    9,   27,    6],\n",
              "       [  12,    3,    3,    2,    7,   15,  912,    2,    2,    0],\n",
              "       [   1,    7,   19,    7,    9,    1,    0,  943,    2,   39],\n",
              "       [  10,    9,    5,   23,    9,   26,    9,   10,  858,   15],\n",
              "       [  11,    8,    1,   11,   25,    6,    0,   18,    4,  925]],\n",
              "      dtype=int32)>"
            ]
          },
          "metadata": {},
          "execution_count": 44
        }
      ]
    },
    {
      "cell_type": "code",
      "source": [
        "model = keras.Sequential([\n",
        "                 keras.layers.Flatten(input_shape = (28,28)),\n",
        "                 keras.layers.Dense(1000,activation = 'relu'),\n",
        "                 keras.layers.Dense(10,activation = 'sigmoid')\n",
        "\n",
        "])\n",
        "model.compile(optimizer = 'adam',\n",
        "              loss = 'sparse_categorical_crossentropy',\n",
        "              metrics=['accuracy']\n",
        "\n",
        "              )\n",
        "model.fit(X_train,Y_train,epochs = 14)"
      ],
      "metadata": {
        "colab": {
          "base_uri": "https://localhost:8080/"
        },
        "id": "l3lGvVVOuKL3",
        "outputId": "5dc5d5f1-b517-4ac5-a077-263b0ae53d4b"
      },
      "execution_count": 48,
      "outputs": [
        {
          "output_type": "stream",
          "name": "stdout",
          "text": [
            "Epoch 1/14\n",
            "1875/1875 [==============================] - 14s 7ms/step - loss: 0.1861 - accuracy: 0.9447\n",
            "Epoch 2/14\n",
            "1875/1875 [==============================] - 12s 6ms/step - loss: 0.0748 - accuracy: 0.9767\n",
            "Epoch 3/14\n",
            "1875/1875 [==============================] - 11s 6ms/step - loss: 0.0479 - accuracy: 0.9848\n",
            "Epoch 4/14\n",
            "1875/1875 [==============================] - 12s 6ms/step - loss: 0.0342 - accuracy: 0.9888\n",
            "Epoch 5/14\n",
            "1875/1875 [==============================] - 12s 6ms/step - loss: 0.0247 - accuracy: 0.9917\n",
            "Epoch 6/14\n",
            "1875/1875 [==============================] - 12s 6ms/step - loss: 0.0205 - accuracy: 0.9930\n",
            "Epoch 7/14\n",
            "1875/1875 [==============================] - 12s 6ms/step - loss: 0.0174 - accuracy: 0.9945\n",
            "Epoch 8/14\n",
            "1875/1875 [==============================] - 11s 6ms/step - loss: 0.0142 - accuracy: 0.9951\n",
            "Epoch 9/14\n",
            "1875/1875 [==============================] - 12s 7ms/step - loss: 0.0141 - accuracy: 0.9955\n",
            "Epoch 10/14\n",
            "1875/1875 [==============================] - 12s 6ms/step - loss: 0.0109 - accuracy: 0.9962\n",
            "Epoch 11/14\n",
            "1875/1875 [==============================] - 12s 6ms/step - loss: 0.0134 - accuracy: 0.9958\n",
            "Epoch 12/14\n",
            "1875/1875 [==============================] - 12s 6ms/step - loss: 0.0088 - accuracy: 0.9971\n",
            "Epoch 13/14\n",
            "1875/1875 [==============================] - 12s 6ms/step - loss: 0.0085 - accuracy: 0.9972\n",
            "Epoch 14/14\n",
            "1875/1875 [==============================] - 12s 6ms/step - loss: 0.0110 - accuracy: 0.9963\n"
          ]
        },
        {
          "output_type": "execute_result",
          "data": {
            "text/plain": [
              "<keras.callbacks.History at 0x7f4d41e78ed0>"
            ]
          },
          "metadata": {},
          "execution_count": 48
        }
      ]
    },
    {
      "cell_type": "code",
      "source": [
        "plt.figure(figsize=(10,7))\n",
        "sb.heatmap(cm,annot = True,fmt = 'd')\n",
        "plt.xlabel('Predicted')\n",
        "plt.ylabel('Truth')"
      ],
      "metadata": {
        "colab": {
          "base_uri": "https://localhost:8080/",
          "height": 459
        },
        "id": "X3kexzaxwMRU",
        "outputId": "04d1d484-5414-4233-e231-e634f3ef3474"
      },
      "execution_count": 49,
      "outputs": [
        {
          "output_type": "execute_result",
          "data": {
            "text/plain": [
              "Text(69.0, 0.5, 'Truth')"
            ]
          },
          "metadata": {},
          "execution_count": 49
        },
        {
          "output_type": "display_data",
          "data": {
            "text/plain": [
              "<Figure size 720x504 with 2 Axes>"
            ],
            "image/png": "[encoded data removed]"
          },
          "metadata": {
            "needs_background": "light"
          }
        }
      ]
    },
    {
      "cell_type": "code",
      "source": [
        ""
      ],
      "metadata": {
        "id": "Srq_kJr0xhZg"
      },
      "execution_count": null,
      "outputs": []
    },
    {
      "cell_type": "code",
      "source": [
        ""
      ],
      "metadata": {
        "id": "xrIlRYfgx753"
      },
      "execution_count": null,
      "outputs": []
    }
  ]
}